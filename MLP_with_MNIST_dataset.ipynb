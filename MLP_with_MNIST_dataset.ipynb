{
  "cells": [
    {
      "cell_type": "markdown",
      "metadata": {
        "id": "view-in-github",
        "colab_type": "text"
      },
      "source": [
        "<a href=\"https://colab.research.google.com/github/Dewwbe/Deep-Learning-lab-02/blob/main/MLP_with_MNIST_dataset.ipynb\" target=\"_parent\"><img src=\"https://colab.research.google.com/assets/colab-badge.svg\" alt=\"Open In Colab\"/></a>"
      ]
    },
    {
      "cell_type": "code",
      "source": [
        "from tensorflow.keras.datasets import mnist\n",
        "from tensorflow.keras.models import Sequential\n",
        "from tensorflow.keras.layers import Dense,Flatten\n",
        "from tensorflow.keras.utils import to_categorical\n",
        "from matplotlib import pyplot as plt\n",
        "import numpy as np\n"
      ],
      "metadata": {
        "id": "wncjuHKsOtkf"
      },
      "execution_count": 1,
      "outputs": []
    },
    {
      "cell_type": "markdown",
      "source": [
        "Load the MNIST dataset"
      ],
      "metadata": {
        "id": "vOlspUx0PCa_"
      }
    },
    {
      "cell_type": "code",
      "execution_count": 2,
      "metadata": {
        "colab": {
          "base_uri": "https://localhost:8080/"
        },
        "id": "9UOZdBlgE9jJ",
        "outputId": "f9c77739-73c5-43f4-b4b7-1fa4f4b37efe"
      },
      "outputs": [
        {
          "output_type": "stream",
          "name": "stdout",
          "text": [
            "Downloading data from https://storage.googleapis.com/tensorflow/tf-keras-datasets/mnist.npz\n",
            "\u001b[1m11490434/11490434\u001b[0m \u001b[32m━━━━━━━━━━━━━━━━━━━━\u001b[0m\u001b[37m\u001b[0m \u001b[1m0s\u001b[0m 0us/step\n"
          ]
        }
      ],
      "source": [
        "(train_data,train_target),(test_data,test_target) = mnist.load_data()"
      ]
    },
    {
      "cell_type": "markdown",
      "source": [
        "Visualize the dataset"
      ],
      "metadata": {
        "id": "RociFxvNPi_w"
      }
    },
    {
      "cell_type": "code",
      "source": [
        "fig, axs = plt.subplots(2, 5, figsize=(16,8))\n",
        "random_numbers = np.random.randint(0, 60000, 10)\n",
        "print('Target labels: ',train_target[random_numbers])\n",
        "for idx, ax in enumerate(axs.ravel()):\n",
        "    ax.imshow(train_data[random_numbers[idx]],cmap='gray')\n",
        "plt.show()"
      ],
      "metadata": {
        "colab": {
          "base_uri": "https://localhost:8080/",
          "height": 549
        },
        "id": "FEmN0CXzQ0r0",
        "outputId": "d5c100a8-c37c-4e68-9267-333824e0a296"
      },
      "execution_count": 3,
      "outputs": [
        {
          "output_type": "stream",
          "name": "stdout",
          "text": [
            "Target labels:  [2 5 4 9 7 2 1 1 4 6]\n"
          ]
        },
        {
          "output_type": "display_data",
          "data": {
            "text/plain": [
              "<Figure size 1600x800 with 10 Axes>"
            ],
            "image/png": "[encoded data removed]"
          },
          "metadata": {}
        }
      ]
    },
    {
      "cell_type": "markdown",
      "source": [
        "Pre-processing stage"
      ],
      "metadata": {
        "id": "YxaTSaecPUf9"
      }
    },
    {
      "cell_type": "code",
      "source": [
        "new_train_data = train_data/255.0\n",
        "new_test_data=test_data/255.0\n",
        "\n",
        "new_train_target = to_categorical(train_target)\n",
        "new_test_target = to_categorical(test_target)"
      ],
      "metadata": {
        "id": "wWPOLNMVPTRv"
      },
      "execution_count": 4,
      "outputs": []
    },
    {
      "cell_type": "markdown",
      "source": [
        "Create the Model architecture"
      ],
      "metadata": {
        "id": "ZSLECSQfPKPH"
      }
    },
    {
      "cell_type": "code",
      "execution_count": 5,
      "metadata": {
        "id": "enx5PvLWE9jM",
        "colab": {
          "base_uri": "https://localhost:8080/"
        },
        "outputId": "cdc9edf0-1b86-42ce-ca59-e77887e974f0"
      },
      "outputs": [
        {
          "output_type": "stream",
          "name": "stderr",
          "text": [
            "/usr/local/lib/python3.11/dist-packages/keras/src/layers/reshaping/flatten.py:37: UserWarning: Do not pass an `input_shape`/`input_dim` argument to a layer. When using Sequential models, prefer using an `Input(shape)` object as the first layer in the model instead.\n",
            "  super().__init__(**kwargs)\n",
            "/usr/local/lib/python3.11/dist-packages/keras/src/layers/core/dense.py:93: UserWarning: Do not pass an `input_shape`/`input_dim` argument to a layer. When using Sequential models, prefer using an `Input(shape)` object as the first layer in the model instead.\n",
            "  super().__init__(activity_regularizer=activity_regularizer, **kwargs)\n"
          ]
        }
      ],
      "source": [
        "model=Sequential()\n",
        "\n",
        "model.add(Flatten(input_shape=(28,28)))\n",
        "\n",
        "model.add(Dense(64,activation='relu'))\n",
        "model.add(Dense(64,input_dim=64,activation='relu'))\n",
        "model.add(Dense(32,input_dim=64,activation='relu'))\n",
        "model.add(Dense(10,input_dim=32,activation='softmax'))\n",
        "model.compile(loss='categorical_crossentropy',optimizer='adam',metrics=['accuracy'])"
      ]
    },
    {
      "cell_type": "code",
      "source": [
        "model.summary()"
      ],
      "metadata": {
        "colab": {
          "base_uri": "https://localhost:8080/",
          "height": 289
        },
        "id": "TlqK33oVPP1X",
        "outputId": "e7899994-25cd-43b2-9632-0394e69291b3"
      },
      "execution_count": 6,
      "outputs": [
        {
          "output_type": "display_data",
          "data": {
            "text/plain": [
              "\u001b[1mModel: \"sequential\"\u001b[0m\n"
            ],
            "text/html": [
              "<pre style=\"white-space:pre;overflow-x:auto;line-height:normal;font-family:Menlo,'DejaVu Sans Mono',consolas,'Courier New',monospace\"><span style=\"font-weight: bold\">Model: \"sequential\"</span>\n",
              "</pre>\n"
            ]
          },
          "metadata": {}
        },
        {
          "output_type": "display_data",
          "data": {
            "text/plain": [
              "┏━━━━━━━━━━━━━━━━━━━━━━━━━━━━━━━━━┳━━━━━━━━━━━━━━━━━━━━━━━━┳━━━━━━━━━━━━━━━┓\n",
              "┃\u001b[1m \u001b[0m\u001b[1mLayer (type)                   \u001b[0m\u001b[1m \u001b[0m┃\u001b[1m \u001b[0m\u001b[1mOutput Shape          \u001b[0m\u001b[1m \u001b[0m┃\u001b[1m \u001b[0m\u001b[1m      Param #\u001b[0m\u001b[1m \u001b[0m┃\n",
              "┡━━━━━━━━━━━━━━━━━━━━━━━━━━━━━━━━━╇━━━━━━━━━━━━━━━━━━━━━━━━╇━━━━━━━━━━━━━━━┩\n",
              "│ flatten (\u001b[38;5;33mFlatten\u001b[0m)               │ (\u001b[38;5;45mNone\u001b[0m, \u001b[38;5;34m784\u001b[0m)            │             \u001b[38;5;34m0\u001b[0m │\n",
              "├─────────────────────────────────┼────────────────────────┼───────────────┤\n",
              "│ dense (\u001b[38;5;33mDense\u001b[0m)                   │ (\u001b[38;5;45mNone\u001b[0m, \u001b[38;5;34m64\u001b[0m)             │        \u001b[38;5;34m50,240\u001b[0m │\n",
              "├─────────────────────────────────┼────────────────────────┼───────────────┤\n",
              "│ dense_1 (\u001b[38;5;33mDense\u001b[0m)                 │ (\u001b[38;5;45mNone\u001b[0m, \u001b[38;5;34m64\u001b[0m)             │         \u001b[38;5;34m4,160\u001b[0m │\n",
              "├─────────────────────────────────┼────────────────────────┼───────────────┤\n",
              "│ dense_2 (\u001b[38;5;33mDense\u001b[0m)                 │ (\u001b[38;5;45mNone\u001b[0m, \u001b[38;5;34m32\u001b[0m)             │         \u001b[38;5;34m2,080\u001b[0m │\n",
              "├─────────────────────────────────┼────────────────────────┼───────────────┤\n",
              "│ dense_3 (\u001b[38;5;33mDense\u001b[0m)                 │ (\u001b[38;5;45mNone\u001b[0m, \u001b[38;5;34m10\u001b[0m)             │           \u001b[38;5;34m330\u001b[0m │\n",
              "└─────────────────────────────────┴────────────────────────┴───────────────┘\n"
            ],
            "text/html": [
              "<pre style=\"white-space:pre;overflow-x:auto;line-height:normal;font-family:Menlo,'DejaVu Sans Mono',consolas,'Courier New',monospace\">┏━━━━━━━━━━━━━━━━━━━━━━━━━━━━━━━━━┳━━━━━━━━━━━━━━━━━━━━━━━━┳━━━━━━━━━━━━━━━┓\n",
              "┃<span style=\"font-weight: bold\"> Layer (type)                    </span>┃<span style=\"font-weight: bold\"> Output Shape           </span>┃<span style=\"font-weight: bold\">       Param # </span>┃\n",
              "┡━━━━━━━━━━━━━━━━━━━━━━━━━━━━━━━━━╇━━━━━━━━━━━━━━━━━━━━━━━━╇━━━━━━━━━━━━━━━┩\n",
              "│ flatten (<span style=\"color: #0087ff; text-decoration-color: #0087ff\">Flatten</span>)               │ (<span style=\"color: #00d7ff; text-decoration-color: #00d7ff\">None</span>, <span style=\"color: #00af00; text-decoration-color: #00af00\">784</span>)            │             <span style=\"color: #00af00; text-decoration-color: #00af00\">0</span> │\n",
              "├─────────────────────────────────┼────────────────────────┼───────────────┤\n",
              "│ dense (<span style=\"color: #0087ff; text-decoration-color: #0087ff\">Dense</span>)                   │ (<span style=\"color: #00d7ff; text-decoration-color: #00d7ff\">None</span>, <span style=\"color: #00af00; text-decoration-color: #00af00\">64</span>)             │        <span style=\"color: #00af00; text-decoration-color: #00af00\">50,240</span> │\n",
              "├─────────────────────────────────┼────────────────────────┼───────────────┤\n",
              "│ dense_1 (<span style=\"color: #0087ff; text-decoration-color: #0087ff\">Dense</span>)                 │ (<span style=\"color: #00d7ff; text-decoration-color: #00d7ff\">None</span>, <span style=\"color: #00af00; text-decoration-color: #00af00\">64</span>)             │         <span style=\"color: #00af00; text-decoration-color: #00af00\">4,160</span> │\n",
              "├─────────────────────────────────┼────────────────────────┼───────────────┤\n",
              "│ dense_2 (<span style=\"color: #0087ff; text-decoration-color: #0087ff\">Dense</span>)                 │ (<span style=\"color: #00d7ff; text-decoration-color: #00d7ff\">None</span>, <span style=\"color: #00af00; text-decoration-color: #00af00\">32</span>)             │         <span style=\"color: #00af00; text-decoration-color: #00af00\">2,080</span> │\n",
              "├─────────────────────────────────┼────────────────────────┼───────────────┤\n",
              "│ dense_3 (<span style=\"color: #0087ff; text-decoration-color: #0087ff\">Dense</span>)                 │ (<span style=\"color: #00d7ff; text-decoration-color: #00d7ff\">None</span>, <span style=\"color: #00af00; text-decoration-color: #00af00\">10</span>)             │           <span style=\"color: #00af00; text-decoration-color: #00af00\">330</span> │\n",
              "└─────────────────────────────────┴────────────────────────┴───────────────┘\n",
              "</pre>\n"
            ]
          },
          "metadata": {}
        },
        {
          "output_type": "display_data",
          "data": {
            "text/plain": [
              "\u001b[1m Total params: \u001b[0m\u001b[38;5;34m56,810\u001b[0m (221.91 KB)\n"
            ],
            "text/html": [
              "<pre style=\"white-space:pre;overflow-x:auto;line-height:normal;font-family:Menlo,'DejaVu Sans Mono',consolas,'Courier New',monospace\"><span style=\"font-weight: bold\"> Total params: </span><span style=\"color: #00af00; text-decoration-color: #00af00\">56,810</span> (221.91 KB)\n",
              "</pre>\n"
            ]
          },
          "metadata": {}
        },
        {
          "output_type": "display_data",
          "data": {
            "text/plain": [
              "\u001b[1m Trainable params: \u001b[0m\u001b[38;5;34m56,810\u001b[0m (221.91 KB)\n"
            ],
            "text/html": [
              "<pre style=\"white-space:pre;overflow-x:auto;line-height:normal;font-family:Menlo,'DejaVu Sans Mono',consolas,'Courier New',monospace\"><span style=\"font-weight: bold\"> Trainable params: </span><span style=\"color: #00af00; text-decoration-color: #00af00\">56,810</span> (221.91 KB)\n",
              "</pre>\n"
            ]
          },
          "metadata": {}
        },
        {
          "output_type": "display_data",
          "data": {
            "text/plain": [
              "\u001b[1m Non-trainable params: \u001b[0m\u001b[38;5;34m0\u001b[0m (0.00 B)\n"
            ],
            "text/html": [
              "<pre style=\"white-space:pre;overflow-x:auto;line-height:normal;font-family:Menlo,'DejaVu Sans Mono',consolas,'Courier New',monospace\"><span style=\"font-weight: bold\"> Non-trainable params: </span><span style=\"color: #00af00; text-decoration-color: #00af00\">0</span> (0.00 B)\n",
              "</pre>\n"
            ]
          },
          "metadata": {}
        }
      ]
    },
    {
      "cell_type": "markdown",
      "source": [
        "Train the model"
      ],
      "metadata": {
        "id": "9WYHu5ILSfNf"
      }
    },
    {
      "cell_type": "code",
      "execution_count": 7,
      "metadata": {
        "colab": {
          "base_uri": "https://localhost:8080/"
        },
        "id": "65p6Lg5gE9jO",
        "outputId": "56049952-f732-4a8f-ef09-95e0f34d5a0e"
      },
      "outputs": [
        {
          "output_type": "stream",
          "name": "stdout",
          "text": [
            "Epoch 1/10\n",
            "\u001b[1m1875/1875\u001b[0m \u001b[32m━━━━━━━━━━━━━━━━━━━━\u001b[0m\u001b[37m\u001b[0m \u001b[1m4s\u001b[0m 2ms/step - accuracy: 0.8343 - loss: 0.5427\n",
            "Epoch 2/10\n",
            "\u001b[1m1875/1875\u001b[0m \u001b[32m━━━━━━━━━━━━━━━━━━━━\u001b[0m\u001b[37m\u001b[0m \u001b[1m5s\u001b[0m 1ms/step - accuracy: 0.9592 - loss: 0.1350\n",
            "Epoch 3/10\n",
            "\u001b[1m1875/1875\u001b[0m \u001b[32m━━━━━━━━━━━━━━━━━━━━\u001b[0m\u001b[37m\u001b[0m \u001b[1m5s\u001b[0m 2ms/step - accuracy: 0.9707 - loss: 0.0964\n",
            "Epoch 4/10\n",
            "\u001b[1m1875/1875\u001b[0m \u001b[32m━━━━━━━━━━━━━━━━━━━━\u001b[0m\u001b[37m\u001b[0m \u001b[1m3s\u001b[0m 1ms/step - accuracy: 0.9769 - loss: 0.0731\n",
            "Epoch 5/10\n",
            "\u001b[1m1875/1875\u001b[0m \u001b[32m━━━━━━━━━━━━━━━━━━━━\u001b[0m\u001b[37m\u001b[0m \u001b[1m3s\u001b[0m 1ms/step - accuracy: 0.9807 - loss: 0.0599\n",
            "Epoch 6/10\n",
            "\u001b[1m1875/1875\u001b[0m \u001b[32m━━━━━━━━━━━━━━━━━━━━\u001b[0m\u001b[37m\u001b[0m \u001b[1m3s\u001b[0m 2ms/step - accuracy: 0.9850 - loss: 0.0468\n",
            "Epoch 7/10\n",
            "\u001b[1m1875/1875\u001b[0m \u001b[32m━━━━━━━━━━━━━━━━━━━━\u001b[0m\u001b[37m\u001b[0m \u001b[1m5s\u001b[0m 1ms/step - accuracy: 0.9860 - loss: 0.0420\n",
            "Epoch 8/10\n",
            "\u001b[1m1875/1875\u001b[0m \u001b[32m━━━━━━━━━━━━━━━━━━━━\u001b[0m\u001b[37m\u001b[0m \u001b[1m5s\u001b[0m 1ms/step - accuracy: 0.9894 - loss: 0.0337\n",
            "Epoch 9/10\n",
            "\u001b[1m1875/1875\u001b[0m \u001b[32m━━━━━━━━━━━━━━━━━━━━\u001b[0m\u001b[37m\u001b[0m \u001b[1m5s\u001b[0m 2ms/step - accuracy: 0.9901 - loss: 0.0304\n",
            "Epoch 10/10\n",
            "\u001b[1m1875/1875\u001b[0m \u001b[32m━━━━━━━━━━━━━━━━━━━━\u001b[0m\u001b[37m\u001b[0m \u001b[1m3s\u001b[0m 1ms/step - accuracy: 0.9906 - loss: 0.0281\n"
          ]
        }
      ],
      "source": [
        "train_info = model.fit(new_train_data , new_train_target , epochs = 10)"
      ]
    },
    {
      "cell_type": "markdown",
      "source": [
        "Plot the loss and accuracy graphs"
      ],
      "metadata": {
        "id": "cwR1pYCBSl6w"
      }
    },
    {
      "cell_type": "code",
      "execution_count": 8,
      "metadata": {
        "colab": {
          "base_uri": "https://localhost:8080/",
          "height": 472
        },
        "id": "nIHMcTjME9jP",
        "outputId": "72a917d0-b317-48d7-e33e-7145aecacce3"
      },
      "outputs": [
        {
          "output_type": "display_data",
          "data": {
            "text/plain": [
              "<Figure size 640x480 with 1 Axes>"
            ],
            "image/png": "[encoded data removed]"
          },
          "metadata": {}
        }
      ],
      "source": [
        "plt.plot(train_info.history['loss'])\n",
        "plt.xlabel('epochs')\n",
        "plt.ylabel('loss')\n",
        "plt.title('Model loss')\n",
        "plt.show()"
      ]
    },
    {
      "cell_type": "code",
      "execution_count": 9,
      "metadata": {
        "colab": {
          "base_uri": "https://localhost:8080/",
          "height": 472
        },
        "id": "T6DnvAP3E9jP",
        "outputId": "1b999435-2c3c-45b8-9565-d1644ccd8b51"
      },
      "outputs": [
        {
          "output_type": "display_data",
          "data": {
            "text/plain": [
              "<Figure size 640x480 with 1 Axes>"
            ],
            "image/png": "[encoded data removed]"
          },
          "metadata": {}
        }
      ],
      "source": [
        "plt.plot(train_info.history['accuracy'])\n",
        "plt.xlabel('epochs')\n",
        "plt.ylabel('accuracy')\n",
        "plt.title('Model accuracy')\n",
        "plt.show()"
      ]
    },
    {
      "cell_type": "markdown",
      "source": [
        "Test the performance of Model"
      ],
      "metadata": {
        "id": "lHY3ygUVTkmo"
      }
    },
    {
      "cell_type": "code",
      "execution_count": 10,
      "metadata": {
        "colab": {
          "base_uri": "https://localhost:8080/"
        },
        "id": "vLSwDA7DE9jQ",
        "outputId": "908baf25-61fe-4b64-f040-ed8c19b03549"
      },
      "outputs": [
        {
          "output_type": "stream",
          "name": "stdout",
          "text": [
            "\u001b[1m313/313\u001b[0m \u001b[32m━━━━━━━━━━━━━━━━━━━━\u001b[0m\u001b[37m\u001b[0m \u001b[1m0s\u001b[0m 1ms/step - accuracy: 0.9707 - loss: 0.1106\n",
            "Loss of the Test dataset is: 0.09772263467311859\n",
            "Accuracy of the test dataset is: 0.9742000102996826\n"
          ]
        }
      ],
      "source": [
        "loss, acc = model.evaluate(new_test_data , new_test_target)\n",
        "print(f'Loss of the Test dataset is: {loss}\\nAccuracy of the test dataset is: {acc}')"
      ]
    },
    {
      "cell_type": "markdown",
      "source": [
        "Save the model weights"
      ],
      "metadata": {
        "id": "gNAp8ycXU7ph"
      }
    },
    {
      "cell_type": "code",
      "execution_count": 13,
      "metadata": {
        "id": "anSo8CJ3E9jR"
      },
      "outputs": [],
      "source": [
        "model.save_weights('MNIST_WEIGHTS_V1.weights.h5')"
      ]
    },
    {
      "cell_type": "code",
      "source": [
        "# If TensorFlow isn't present in your runtime, install it (Colab often has it preinstalled).\n",
        "try:\n",
        "    import tensorflow as tf\n",
        "except ModuleNotFoundError:\n",
        "    !pip -q install --upgrade tensorflow\n",
        "    import tensorflow as tf\n",
        "\n",
        "import numpy as np\n",
        "from tensorflow import keras\n",
        "from tensorflow.keras import layers, regularizers\n",
        "\n",
        "# Reproducibility\n",
        "np.random.seed(42)\n",
        "tf.random.set_seed(42)\n",
        "\n",
        "# Load MNIST\n",
        "(x_train, y_train), (x_test, y_test) = keras.datasets.mnist.load_data()\n",
        "\n",
        "# Normalize to [0,1] and flatten to vectors (784 features)\n",
        "x_train = (x_train.astype(\"float32\") / 255.0).reshape(-1, 28*28)\n",
        "x_test  = (x_test.astype(\"float32\")  / 255.0).reshape(-1, 28*28)\n",
        "\n",
        "print(x_train.shape, y_train.shape, x_test.shape, y_test.shape)  # (60000, 784) (60000,) (10000, 784) (10000,)\n"
      ],
      "metadata": {
        "colab": {
          "base_uri": "https://localhost:8080/"
        },
        "id": "ETpq8Uk-URb-",
        "outputId": "15498074-e32b-43e4-b8f3-24db279813a8"
      },
      "execution_count": 14,
      "outputs": [
        {
          "output_type": "stream",
          "name": "stdout",
          "text": [
            "(60000, 784) (60000,) (10000, 784) (10000,)\n"
          ]
        }
      ]
    },
    {
      "cell_type": "code",
      "source": [
        "def build_mlp(\n",
        "    input_dim=784,\n",
        "    hidden_units=(256, 128),\n",
        "    activation=\"relu\",         # try \"tanh\" too\n",
        "    dropout=0.2,\n",
        "    l1=0.0, l2=0.0,            # regularization strengths\n",
        "    num_classes=10\n",
        "):\n",
        "    reg = regularizers.l1_l2(l1=l1, l2=l2) if (l1>0.0 or l2>0.0) else None\n",
        "\n",
        "    model = keras.Sequential(name=\"mnist_mlp\")\n",
        "    model.add(layers.Input(shape=(input_dim,)))\n",
        "\n",
        "    for h in hidden_units:\n",
        "        model.add(layers.Dense(h, activation=activation, kernel_regularizer=reg, bias_regularizer=None))\n",
        "        if dropout and dropout > 0:\n",
        "            model.add(layers.Dropout(dropout))\n",
        "\n",
        "    model.add(layers.Dense(num_classes, activation=\"softmax\", kernel_regularizer=reg))\n",
        "    return model\n"
      ],
      "metadata": {
        "id": "UZmHI3HVUbZF"
      },
      "execution_count": 15,
      "outputs": []
    },
    {
      "cell_type": "code",
      "source": [
        "def train_and_eval(model, lr=1e-3, epochs=15, batch_size=128, verbose=0):\n",
        "    model.compile(\n",
        "        optimizer=keras.optimizers.Adam(learning_rate=lr),\n",
        "        loss=\"sparse_categorical_crossentropy\",\n",
        "        metrics=[\"accuracy\"]\n",
        "    )\n",
        "    es = keras.callbacks.EarlyStopping(monitor=\"val_accuracy\", patience=3, restore_best_weights=True)\n",
        "    history = model.fit(\n",
        "        x_train, y_train,\n",
        "        validation_split=0.1,\n",
        "        epochs=epochs,\n",
        "        batch_size=batch_size,\n",
        "        callbacks=[es],\n",
        "        verbose=verbose\n",
        "    )\n",
        "    test_loss, test_acc = model.evaluate(x_test, y_test, verbose=0)\n",
        "    return test_acc, history\n",
        "\n",
        "# Search space (keep small to run quickly; expand if you have time/GPU)\n",
        "hidden_space   = [(256,128), (512,256)]\n",
        "activation_spc = [\"relu\", \"tanh\"]\n",
        "dropout_spc    = [0.0, 0.2]\n",
        "lr_spc         = [1e-3, 5e-4]\n",
        "batch_spc      = [128, 256]\n",
        "\n",
        "best = {\"acc\": 0.0, \"cfg\": None}\n",
        "\n",
        "for hidden in hidden_space:\n",
        "    for act in activation_spc:\n",
        "        for do in dropout_spc:\n",
        "            for lr in lr_spc:\n",
        "                for bs in batch_spc:\n",
        "                    model = build_mlp(hidden_units=hidden, activation=act, dropout=do)\n",
        "                    acc, _ = train_and_eval(model, lr=lr, epochs=20, batch_size=bs, verbose=0)\n",
        "                    print(f\"hidden={hidden}, act={act}, drop={do}, lr={lr}, bs={bs} -> test_acc={acc:.4f}\")\n",
        "                    if acc > best[\"acc\"]:\n",
        "                        best[\"acc\"] = acc\n",
        "                        best[\"cfg\"] = (hidden, act, do, lr, bs)\n",
        "\n",
        "print(\"\\nBEST:\", best)\n"
      ],
      "metadata": {
        "colab": {
          "base_uri": "https://localhost:8080/"
        },
        "id": "20xAFenLUdgG",
        "outputId": "717eaf88-d260-48ac-8afb-54407cc5ec1e"
      },
      "execution_count": 16,
      "outputs": [
        {
          "output_type": "stream",
          "name": "stdout",
          "text": [
            "hidden=(256, 128), act=relu, drop=0.0, lr=0.001, bs=128 -> test_acc=0.9753\n",
            "hidden=(256, 128), act=relu, drop=0.0, lr=0.001, bs=256 -> test_acc=0.9785\n",
            "hidden=(256, 128), act=relu, drop=0.0, lr=0.0005, bs=128 -> test_acc=0.9773\n",
            "hidden=(256, 128), act=relu, drop=0.0, lr=0.0005, bs=256 -> test_acc=0.9759\n",
            "hidden=(256, 128), act=relu, drop=0.2, lr=0.001, bs=128 -> test_acc=0.9804\n",
            "hidden=(256, 128), act=relu, drop=0.2, lr=0.001, bs=256 -> test_acc=0.9829\n",
            "hidden=(256, 128), act=relu, drop=0.2, lr=0.0005, bs=128 -> test_acc=0.9814\n",
            "hidden=(256, 128), act=relu, drop=0.2, lr=0.0005, bs=256 -> test_acc=0.9802\n",
            "hidden=(256, 128), act=tanh, drop=0.0, lr=0.001, bs=128 -> test_acc=0.9751\n",
            "hidden=(256, 128), act=tanh, drop=0.0, lr=0.001, bs=256 -> test_acc=0.9761\n",
            "hidden=(256, 128), act=tanh, drop=0.0, lr=0.0005, bs=128 -> test_acc=0.9788\n",
            "hidden=(256, 128), act=tanh, drop=0.0, lr=0.0005, bs=256 -> test_acc=0.9773\n",
            "hidden=(256, 128), act=tanh, drop=0.2, lr=0.001, bs=128 -> test_acc=0.9791\n",
            "hidden=(256, 128), act=tanh, drop=0.2, lr=0.001, bs=256 -> test_acc=0.9780\n",
            "hidden=(256, 128), act=tanh, drop=0.2, lr=0.0005, bs=128 -> test_acc=0.9783\n",
            "hidden=(256, 128), act=tanh, drop=0.2, lr=0.0005, bs=256 -> test_acc=0.9761\n",
            "hidden=(512, 256), act=relu, drop=0.0, lr=0.001, bs=128 -> test_acc=0.9789\n",
            "hidden=(512, 256), act=relu, drop=0.0, lr=0.001, bs=256 -> test_acc=0.9807\n",
            "hidden=(512, 256), act=relu, drop=0.0, lr=0.0005, bs=128 -> test_acc=0.9760\n",
            "hidden=(512, 256), act=relu, drop=0.0, lr=0.0005, bs=256 -> test_acc=0.9794\n",
            "hidden=(512, 256), act=relu, drop=0.2, lr=0.001, bs=128 -> test_acc=0.9806\n",
            "hidden=(512, 256), act=relu, drop=0.2, lr=0.001, bs=256 -> test_acc=0.9787\n",
            "hidden=(512, 256), act=relu, drop=0.2, lr=0.0005, bs=128 -> test_acc=0.9814\n",
            "hidden=(512, 256), act=relu, drop=0.2, lr=0.0005, bs=256 -> test_acc=0.9818\n",
            "hidden=(512, 256), act=tanh, drop=0.0, lr=0.001, bs=128 -> test_acc=0.9778\n",
            "hidden=(512, 256), act=tanh, drop=0.0, lr=0.001, bs=256 -> test_acc=0.9779\n",
            "hidden=(512, 256), act=tanh, drop=0.0, lr=0.0005, bs=128 -> test_acc=0.9802\n",
            "hidden=(512, 256), act=tanh, drop=0.0, lr=0.0005, bs=256 -> test_acc=0.9767\n",
            "hidden=(512, 256), act=tanh, drop=0.2, lr=0.001, bs=128 -> test_acc=0.9761\n",
            "hidden=(512, 256), act=tanh, drop=0.2, lr=0.001, bs=256 -> test_acc=0.9778\n",
            "hidden=(512, 256), act=tanh, drop=0.2, lr=0.0005, bs=128 -> test_acc=0.9802\n",
            "hidden=(512, 256), act=tanh, drop=0.2, lr=0.0005, bs=256 -> test_acc=0.9774\n",
            "\n",
            "BEST: {'acc': 0.9829000234603882, 'cfg': ((256, 128), 'relu', 0.2, 0.001, 256)}\n"
          ]
        }
      ]
    }
  ],
  "metadata": {
    "kernelspec": {
      "display_name": "Python 3",
      "language": "python",
      "name": "python3"
    },
    "language_info": {
      "codemirror_mode": {
        "name": "ipython",
        "version": 3
      },
      "file_extension": ".py",
      "mimetype": "text/x-python",
      "name": "python",
      "nbconvert_exporter": "python",
      "pygments_lexer": "ipython3",
      "version": "3.8.8"
    },
    "colab": {
      "provenance": [],
      "toc_visible": true,
      "include_colab_link": true
    }
  },
  "nbformat": 4,
  "nbformat_minor": 0
}